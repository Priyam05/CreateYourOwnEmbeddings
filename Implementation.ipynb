{
 "cells": [
  {
   "cell_type": "markdown",
   "metadata": {
    "colab_type": "text",
    "id": "2y5cwPLm6Lyw"
   },
   "source": [
    "# Homework 3: Word Embeddings\n",
    "In this homework, we will try to approximate a Skip-gram word embedding via positive pointwise mutual information (PPMI) and truncated singular value decomposition (SVD). "
   ]
  },
  {
   "cell_type": "markdown",
   "metadata": {
    "colab_type": "text",
    "id": "EMnCOKC26Gzj"
   },
   "source": [
    "## The setup\n",
    "Let's import the required libraries and load the data for preparing our word vectors. We are going to load a list of movie plot summaries (http://www.cs.cmu.edu/~ark/personas/) and use that as our corpus. You do not need to modify them."
   ]
  },
  {
   "cell_type": "code",
   "execution_count": 0,
   "metadata": {
    "colab": {},
    "colab_type": "code",
    "id": "nRKoyqtb0QL_"
   },
   "outputs": [],
   "source": [
    "# This code gets the data file from github and imports them into Colab\n",
    "%%capture\n",
    "!wget https://raw.githubusercontent.com/dbamman/nlp20/master/HW_3/plot_summaries_tokenized.csv"
   ]
  },
  {
   "cell_type": "code",
   "execution_count": 6,
   "metadata": {
    "colab": {
     "base_uri": "https://localhost:8080/",
     "height": 72
    },
    "colab_type": "code",
    "id": "_yWaVJn30NBk",
    "outputId": "879f290a-46e3-4b74-fc53-05a428376dcd"
   },
   "outputs": [
    {
     "name": "stdout",
     "output_type": "stream",
     "text": [
      "There are 42303 summaries.\n",
      "Example tokenized summary: ['Shlykov', 'a', 'hardworking', 'taxi', 'driver', 'and', 'Lyosha', 'a', 'saxophonist', 'develop', 'a', 'bizarre', 'lovehate', 'relationship', 'and', 'despite', 'their', 'prejudices', 'realize', 'they', 'arent', 'so', 'different', 'after', 'all']\n"
     ]
    }
   ],
   "source": [
    "import numpy as np\n",
    "import pandas as pd\n",
    "from string import punctuation\n",
    "from collections import Counter, defaultdict\n",
    "from math import log2\n",
    "from scipy.sparse import csc_matrix\n",
    "from scipy.sparse.linalg import svds\n",
    "\n",
    "def load_data():\n",
    "    \"\"\"\n",
    "    Loads the data and returns tokenized summaries.\n",
    "    \n",
    "    :return summaries_tokenized: a list that contains tokenized summaries text\n",
    "    \"\"\"\n",
    "    df = pd.read_csv(\"plot_summaries_tokenized.csv\")\n",
    "    summaries_tokenized = list(df['SUMMARY'].apply(lambda text: text.split()))\n",
    "    return summaries_tokenized\n",
    "\n",
    "summaries = load_data()\n",
    "num_summaries = len(summaries)\n",
    "print(\"There are {} summaries.\".format(num_summaries))\n",
    "print(\"Example tokenized summary:\", summaries[0])"
   ]
  },
  {
   "cell_type": "markdown",
   "metadata": {
    "colab_type": "text",
    "id": "Ikv9DyqR7xoG"
   },
   "source": [
    "We have ~42000 summaries containing ~13000000 words. We will now proceed by creating a vocabulary and will limit its size to something computationally feasible. You may find python's collections.Counter function useful. You may not import any additional libraries."
   ]
  },
  {
   "cell_type": "markdown",
   "metadata": {
    "colab_type": "text",
    "id": "jWP4hmGG7--v"
   },
   "source": [
    "# 1. Create Vocabulary\n",
    "We will start from creating our vocabulary. Vocabulary contains unigrams and their counts."
   ]
  },
  {
   "cell_type": "code",
   "execution_count": 0,
   "metadata": {
    "colab": {},
    "colab_type": "code",
    "id": "Ksw96WHvEoJx"
   },
   "outputs": [],
   "source": [
    "###################\n",
    "# Do not modify\n",
    "###################\n",
    "min_count = (1 / 100) * len(summaries)\n",
    "max_count = (1 / 10) * len(summaries)"
   ]
  },
  {
   "cell_type": "code",
   "execution_count": 0,
   "metadata": {
    "colab": {},
    "colab_type": "code",
    "id": "GEQpPR4CMooN"
   },
   "outputs": [],
   "source": []
  },
  {
   "cell_type": "code",
   "execution_count": 0,
   "metadata": {
    "colab": {},
    "colab_type": "code",
    "id": "Sum1rnZN54-V"
   },
   "outputs": [],
   "source": [
    "def create_vocabulary(tokenized_documents, min_count, max_count):\n",
    "    \"\"\"\n",
    "    This function takes in tokenized documents and returns a\n",
    "    vocabulary and word <-> index lookup dictionary of some frequently appearing words.\n",
    "    \n",
    "    :param tokenized_documents: a list of tokenized strings\n",
    "    :param min_count: minimum unigram count\n",
    "    :param max_count: maximum unigram count\n",
    "    :return vocab: a Counter where vocab[word] = count of word's occurences in all the documents\n",
    "    :return word2idx: a word -> index lookup Dictionary for words in vocab.\n",
    "    :return idx2word: a index -> word lookup Dictionary for words in vocab.\n",
    "    \"\"\"\n",
    "    # 1a. Compute unigram counts. A unigram is a single word, e.g. foo\n",
    "    vocab = Counter()\n",
    "    ##################################\n",
    "    # Your code here\n",
    "    ##################################\n",
    "    for doc in tokenized_documents:\n",
    "      doc = [x.lower() for x in doc]\n",
    "      for word in doc:\n",
    "        vocab[word]+=1\n",
    "    # 1b. Remove unigrams that has #(unigram) < min_count or #(unigram) > max_count\n",
    "    # to eliminate unigrams occurring very frequently or infrequently. \n",
    "    # This will limit its size to something computationally feasible.\n",
    "    print('%d vocabs before' % len(vocab))\n",
    "    ##################################\n",
    "    # Your code here\n",
    "    ##################################\n",
    "    vocab = {k:vocab[k] for k in vocab if vocab[k]>min_count and vocab[k]<=max_count}\n",
    "    print('%d vocabs after' % len(vocab))\n",
    "          \n",
    "    # 1c. Build word <-> index lookup for words in vocab.\n",
    "    word2idx, idx2word = {}, {}\n",
    "    ##################################\n",
    "    # Your code here\n",
    "    ##################################\n",
    "    i=0\n",
    "    for k in vocab:\n",
    "      word2idx[k]=i\n",
    "      idx2word[i]=k\n",
    "      i+=1\n",
    "    return vocab, word2idx, idx2word"
   ]
  },
  {
   "cell_type": "code",
   "execution_count": 43,
   "metadata": {
    "colab": {
     "base_uri": "https://localhost:8080/",
     "height": 89
    },
    "colab_type": "code",
    "id": "71G0q8l_51CH",
    "outputId": "5847e3fd-f9fd-4213-b944-5caec82b2710"
   },
   "outputs": [
    {
     "name": "stdout",
     "output_type": "stream",
     "text": [
      "['Shlykov', 'a', 'hardworking', 'taxi', 'driver', 'and', 'Lyosha', 'a', 'saxophonist', 'develop', 'a', 'bizarre', 'lovehate', 'relationship', 'and', 'despite', 'their', 'prejudices', 'realize', 'they', 'arent', 'so', 'different', 'after', 'all']\n",
      "190730 vocabs before\n",
      "2722 vocabs after\n"
     ]
    }
   ],
   "source": [
    "print(summaries[0])\n",
    "vocab, word2idx, idx2word = create_vocabulary(summaries, min_count, max_count)"
   ]
  },
  {
   "cell_type": "markdown",
   "metadata": {
    "colab_type": "text",
    "id": "0NwfhahT_tRd"
   },
   "source": [
    "# 2. Build Term-Context Matrix"
   ]
  },
  {
   "cell_type": "code",
   "execution_count": 0,
   "metadata": {
    "colab": {},
    "colab_type": "code",
    "id": "HQ-tvqGE1ykI"
   },
   "outputs": [],
   "source": [
    "###################\n",
    "# Do not modify\n",
    "###################\n",
    "window_size = 3"
   ]
  },
  {
   "cell_type": "code",
   "execution_count": 0,
   "metadata": {
    "colab": {},
    "colab_type": "code",
    "id": "NQvXB-MZ_VqD"
   },
   "outputs": [],
   "source": [
    "def build_term_context_matrix(tokenized_documents, vocab, window_size):\n",
    "    \"\"\"\n",
    "    This function returns a `word_pair_count` Counter with each \n",
    "    word_pair_count[(w, c)] = number of times the word `c` occurs in the context of word `w`. (where `w`, `c` belong to the vocab)\n",
    "    To make it efficient, instead of building the sparse term-context matrix, \n",
    "    we will build 3 separate Counters: word_pair_count, w_count, c_count\n",
    "    You may find python's Counter useful here\n",
    "\n",
    "    :param tokenized_documents: a list of tokenized strings\n",
    "    :param vocab: vocabulary Counter\n",
    "    :param window_size: context window size\n",
    "    :return word_pair_count: a Counter where word_pair_count[(w, c)] = count of c's occurences in w's context window, i.e. #(w, c)\n",
    "    :return w_count: a Counter where w_count[w] = the number of times w occured in the documents, i.e. #(w)\n",
    "    :return c_count: a Counter where c_count[c] = the number of times c occured in the documents, i.e. #(c)\n",
    "    \"\"\"\n",
    "    word_pair_count = Counter()  \n",
    "    w_count = Counter()\n",
    "    c_count = Counter()\n",
    "    ##################################\n",
    "    # Your code here\n",
    "    ##################################\n",
    "    for doc in tokenized_documents:\n",
    "      doc = [x.lower() for x in doc]\n",
    "      for i,word in enumerate(doc):\n",
    "        if(word in vocab):          \n",
    "          for index in range(i-window_size,i+window_size+1):\n",
    "            if(index>=0 and index<len(doc) and index!=i and doc[index] in vocab):\n",
    "              word_pair_count[(word,doc[index])]+=1\n",
    "              c_count[doc[index]]+=1\n",
    "              w_count[word]+=1\n",
    "\n",
    "\n",
    "    return word_pair_count, w_count, c_count"
   ]
  },
  {
   "cell_type": "code",
   "execution_count": 44,
   "metadata": {
    "colab": {
     "base_uri": "https://localhost:8080/",
     "height": 34
    },
    "colab_type": "code",
    "id": "gBxi0t1y2jQ_",
    "outputId": "e8f60e37-cc0b-4f03-c7db-deb4ca0f2c4a"
   },
   "outputs": [
    {
     "name": "stdout",
     "output_type": "stream",
     "text": [
      "There are 1930374 word-context pairs\n"
     ]
    }
   ],
   "source": [
    "word_pair_count, w_count, c_count = build_term_context_matrix(summaries, vocab, window_size)\n",
    "print(\"There are {} word-context pairs\".format(len(word_pair_count)))\n",
    "\n",
    "# The number of w_count and c_count should match your number of vocab\n",
    "assert len(w_count) == len(vocab)\n",
    "assert len(c_count) == len(vocab)"
   ]
  },
  {
   "cell_type": "markdown",
   "metadata": {
    "colab_type": "text",
    "id": "xeaZoasi3m5r"
   },
   "source": [
    "# 3. Build Positive Pointwise Mutual Information (PPMI) Matrix\n",
    "In this part, you will build a PPMI matrix using Scipy's Compressed Sparse Column matrix to save storage space. (https://docs.scipy.org/doc/scipy/reference/generated/scipy.sparse.csc_matrix.html)\n",
    "\n",
    "Sparse matrix is a matrix which contains very few non-zero elements. When a sparse matrix is represented with a 2-dimensional array, we waste a lot of space to represent that matrix. In NLP application, it's quite common to use sparse matrix since the size of vocabulary is usually very large. \n",
    "\n",
    "Below is an example of how to build a sparse matrix where `data`, `row` and `col` satisfy the relationship `M[row[k], col[k]] = data[k]`.\n",
    "\n",
    "```python\n",
    ">>> row = np.array([0, 2, 2, 0, 1, 2])\n",
    ">>> col = np.array([0, 0, 1, 2, 2, 2])\n",
    ">>> data = np.array([1, 2, 3, 4, 5, 6])\n",
    ">>> M = csc_matrix((data, (row, col)))\n",
    ">>> M.toarray()\n",
    "array([[1, 0, 4],\n",
    "       [0, 0, 5],\n",
    "       [2, 3, 6]])\n",
    "```\n",
    "\n",
    "Recall that\n",
    "$$\n",
    "\\begin{gather*}\n",
    "  \\text{PMI}(w, c) = \\log_2 \\frac{P(w, c)}{P(w)P(c)} \\\\\n",
    "  \\text{PPMI}(w, c) = \\max(0, \\text{PMI}(w, c))\n",
    "\\end{gather*}\n",
    "$$\n",
    "You should use `log2` function from the math package that is alreadly imported for you."
   ]
  },
  {
   "cell_type": "code",
   "execution_count": 0,
   "metadata": {
    "colab": {},
    "colab_type": "code",
    "id": "FIYharDm38G1"
   },
   "outputs": [],
   "source": [
    "import math\n",
    "def build_PPMI_matrix(word_pair_count, w_count, c_count, word2idx):\n",
    "    \"\"\"\n",
    "    This function returns a PPMI matrix represented by a csc sparse matrix.\n",
    "\n",
    "    :params word_pair_count: a Counter where word_pair_count[(w, c)] = count of c's occurences in w's context window\n",
    "    :params w_count: a Counter where w_count[w] = the number of times w occured in the documents\n",
    "    :params c_count: a Counter where c_count[c] = the number of times c occured in the documents\n",
    "    :params word2idx: a word -> index lookup Dictionary for words in vocab\n",
    "    :return PPMI: PPMI csc sparse matrix\n",
    "    \"\"\"\n",
    "    data, rows, cols = [], [], []\n",
    "    total_occurences = sum(word_pair_count.values())\n",
    "    for (w, c), n in word_pair_count.items():\n",
    "      ##################################\n",
    "      # Your code here\n",
    "      ##################################\n",
    "      w_n = w_count[w]\n",
    "      c_n = c_count[c]\n",
    "      val_PMI = math.log2(n*total_occurences/(w_n * c_n ))\n",
    "      val_PPMI = max(0,val_PMI)\n",
    "      rows.append(word2idx[w])\n",
    "      cols.append(word2idx[c])\n",
    "      data.append(val_PPMI)\n",
    "    PPMI = csc_matrix((data, (rows, cols)))\n",
    "    return PPMI"
   ]
  },
  {
   "cell_type": "code",
   "execution_count": 0,
   "metadata": {
    "colab": {},
    "colab_type": "code",
    "id": "ADuP5FPV8-XQ"
   },
   "outputs": [],
   "source": [
    "PPMI = build_PPMI_matrix(word_pair_count, w_count, c_count, word2idx)\n",
    "\n",
    "# The shape of PPMI matrix should match your number of vocab\n",
    "assert PPMI.shape == (len(vocab), len(vocab))"
   ]
  },
  {
   "cell_type": "markdown",
   "metadata": {
    "colab_type": "text",
    "id": "dLUHCDzN9PGF"
   },
   "source": [
    "# 4. Truncated SVD\n",
    "In this part, we will obtain a dense low-dimensional vectors via truncated (rank-k) SVD. You should use `svds` function from Sicpy that is already imported for you to obtain the SVD factorization.\n",
    "(https://docs.scipy.org/doc/scipy/reference/generated/scipy.sparse.linalg.svds.html)\n"
   ]
  },
  {
   "cell_type": "code",
   "execution_count": 0,
   "metadata": {
    "colab": {},
    "colab_type": "code",
    "id": "ZEh5rynC9-UR"
   },
   "outputs": [],
   "source": [
    "###################\n",
    "# Do not modify\n",
    "###################\n",
    "rank = 20"
   ]
  },
  {
   "cell_type": "code",
   "execution_count": 0,
   "metadata": {
    "colab": {},
    "colab_type": "code",
    "id": "BLtCNz5Z9U8c"
   },
   "outputs": [],
   "source": [
    "def get_embeddings(PPMI, rank):\n",
    "    \"\"\"\n",
    "    Reutrns the left singular vectors as word embeddings via truncated SVD\n",
    "\n",
    "    :params PPMI: PPMI csc sparse matrix\n",
    "    :params rank: number of singular values and vectors to compute\n",
    "    :return u: left sigular vectors from sprase SVD\n",
    "    :return s: the singular values from sparse SVD\n",
    "    \"\"\"\n",
    "    ##################################\n",
    "    # Your code here\n",
    "    ##################################\n",
    "    u, s, vt = svds(PPMI.asfptype(), k=rank, which= 'LM')\n",
    "    return u, s"
   ]
  },
  {
   "cell_type": "code",
   "execution_count": 0,
   "metadata": {
    "colab": {},
    "colab_type": "code",
    "id": "lmjoP5KF91O0"
   },
   "outputs": [],
   "source": [
    "embeddings, _ = get_embeddings(PPMI, rank)\n",
    "embeddings /= np.linalg.norm(embeddings, axis=1, keepdims=True)  # Normalize embeddings matrix\n",
    "\n",
    "# The shape of the embeddings matrix should be (# vocab, rank)\n",
    "assert embeddings.shape == (len(vocab), rank)\n",
    "\n",
    "# Make sure embeddings is normalized\n",
    "assert True == np.isclose(np.linalg.norm(embeddings[0]), 1)"
   ]
  },
  {
   "cell_type": "code",
   "execution_count": 50,
   "metadata": {
    "colab": {
     "base_uri": "https://localhost:8080/",
     "height": 34
    },
    "colab_type": "code",
    "id": "rx9vtphsl90t",
    "outputId": "f40a5091-a36c-4e30-fe12-7a9bbef0d248"
   },
   "outputs": [
    {
     "data": {
      "text/plain": [
       "(2722, 20)"
      ]
     },
     "execution_count": 50,
     "metadata": {
      "tags": []
     },
     "output_type": "execute_result"
    }
   ],
   "source": [
    "embeddings.shape"
   ]
  },
  {
   "cell_type": "markdown",
   "metadata": {
    "colab_type": "text",
    "id": "rQUUfS0N-Lyc"
   },
   "source": [
    "# 5. Evaluate Word Embeddings via Cosine Similarity\n",
    "\n",
    "Using cosine similarity as a measure of distance [§6.4 Jurafsky & Martin](https://web.stanford.edu/~jurafsky/slp3/6.pdf), we will now find the closest words to a certain word. We define cosine similarity as, $$cosine(\\overrightarrow{v},\\overrightarrow{w}) = \\frac{\\overrightarrow{v} \\cdot \\overrightarrow{w}}{\\vert v \\vert \\vert w \\vert}$$\n",
    "\n",
    "Please complete the function below that calculates the 'K' closest words from the vocabulary. You may not use any additional libraries."
   ]
  },
  {
   "cell_type": "code",
   "execution_count": 0,
   "metadata": {
    "colab": {},
    "colab_type": "code",
    "id": "D9Zf_us2AFkx"
   },
   "outputs": [],
   "source": [
    "###################\n",
    "# Do not modify\n",
    "###################\n",
    "num_neighbors = 5"
   ]
  },
  {
   "cell_type": "code",
   "execution_count": 0,
   "metadata": {
    "colab": {},
    "colab_type": "code",
    "id": "f_l55j98-NvY"
   },
   "outputs": [],
   "source": [
    "def cosine_distances(matrix, vector):\n",
    "    \"\"\"\n",
    "    The function takes in a matrix and a vector (both normalized) \n",
    "    and returns the cosine distances for this vector against all others.\n",
    "    The pretrained embeddings are normalized.\n",
    "\n",
    "    :params matrix: word embeddings matrix\n",
    "    :params vector: word vector for a particular word\n",
    "    :return distances: a cosine distances vector\n",
    "    \"\"\"\n",
    "    ##################################\n",
    "    # Your code here\n",
    "    ##################################\n",
    "    \n",
    "    #vector=vector.reshape(-1,1)\n",
    "    #print(vector.shape)\n",
    "    #print(matrix.shape)\n",
    "    distances = matrix @ vector\n",
    "    #distances=distances.reshape(-1)\n",
    "    #print(distances.shape)\n",
    "    \n",
    "    return  distances\n",
    "\n",
    "\n",
    "def nearest_neighbors(embeddings, word, k, word2idx, idx2word):\n",
    "    \"\"\"\n",
    "    For each query word, this function returns the k closest words from the vocabulary.\n",
    "\n",
    "    :params embeddings: word embedding matrix\n",
    "    :params word: query word\n",
    "    :params k: number of cloest words to return\n",
    "    :params word2idx: a word -> index lookup dictionary\n",
    "    :params idx2word: a index -> word lookup dictionary\n",
    "    :return nearest_neighbors: a list of cloest words\n",
    "    \"\"\"\n",
    "    vector = embeddings[word2idx[word]]\n",
    "    distances = cosine_distances(embeddings, vector)\n",
    "    nearest_neighbors = []\n",
    "    ##################################\n",
    "    # Your code here\n",
    "    ##################################\n",
    "    indexes = np.argsort(distances)[-k:]\n",
    "    print(indexes)\n",
    "    for i in indexes:\n",
    "      nearest_neighbors.append(idx2word[i])\n",
    "    return nearest_neighbors"
   ]
  },
  {
   "cell_type": "code",
   "execution_count": 52,
   "metadata": {
    "colab": {
     "base_uri": "https://localhost:8080/",
     "height": 190
    },
    "colab_type": "code",
    "id": "FJjPuVPe_oGq",
    "outputId": "6733bb44-3d81-44c3-a405-3932ef64d90d"
   },
   "outputs": [
    {
     "name": "stdout",
     "output_type": "stream",
     "text": [
      "[2638 2130 2266 2202  788]\n",
      "doctor ['julia', 'sophie', 'elizabeth', 'maria', 'doctor']\n",
      "[ 125 2376 2589   97 1896]\n",
      "zombie ['creatures', 'vampires', 'zombies', 'infected', 'zombie']\n",
      "[1731 2443 2067 1211 2550]\n",
      "robot ['creature', 'alien', 'machine', 'weapon', 'robot']\n",
      "[1853 1079 2175 1506 1759]\n",
      "eat ['sit', 'sleep', 'wear', 'throw', 'eat']\n",
      "[1501 1741  439 1109 2471]\n",
      "bus ['cliff', 'truck', 'boat', 'road', 'bus']\n"
     ]
    }
   ],
   "source": [
    "query_words = [\"doctor\", \"zombie\", \"robot\", \"eat\", \"bus\"]\n",
    "for word in query_words:\n",
    "    print(word, nearest_neighbors(embeddings, word, num_neighbors, word2idx, idx2word))"
   ]
  },
  {
   "cell_type": "markdown",
   "metadata": {
    "colab_type": "text",
    "id": "KfxaNuBjAiiY"
   },
   "source": [
    "# 6. Evaluate Word Embeddings via Analogous Tasks\n",
    "\n",
    "The embedding space is known to capture the semantic context of words. An example of it is $\\overrightarrow{woman} - \\overrightarrow{man} \\simeq \\overrightarrow{queen} - \\overrightarrow{king}$. Use the `cosine_distances()` function you wrote above to find such relations."
   ]
  },
  {
   "cell_type": "code",
   "execution_count": 0,
   "metadata": {
    "colab": {},
    "colab_type": "code",
    "id": "YZQCzP-FCRb5"
   },
   "outputs": [],
   "source": [
    "def relation(embeddings, query_words, word2idx, idx2word):\n",
    "    \"\"\"\n",
    "    Takes in 3 words and returns the closest word (in terms of cosine similarity)\n",
    "    to the normalized algebraic addition of the three vectors.\n",
    "    The parameters follow this order : word_vec1 - word_vec2 ~ closest - word_vec3\n",
    "\n",
    "    :params embeddings: word embedding matrix\n",
    "    :params query_words: a list of query words in the following order: [word1, word2, word3]\n",
    "    :params word2idx: a word -> index lookup dictionary\n",
    "    :params idx2word: a index -> word lookup dictionary\n",
    "    :return closet_word: the closest word for the relation\n",
    "    \"\"\"\n",
    "    word1, word2, word3 = query_words\n",
    "    if all(word in vocab for word in query_words):\n",
    "      ##################################\n",
    "      # Your code here\n",
    "      ##################################\n",
    "      word_vec1 = embeddings[word2idx[word1]]\n",
    "      word_vec2 = embeddings[word2idx[word2]]\n",
    "      word_vec3 = embeddings[word2idx[word3]]\n",
    "      required_vector = word_vec1 - word_vec2 + word_vec3\n",
    "      distances = embeddings @ required_vector\n",
    "      index = np.argsort(distances)[-1]\n",
    "      closest_word = idx2word[index]\n",
    "      if(closest_word == word3):\n",
    "        index = np.argsort(distances)[-2]\n",
    "        closest_word = idx2word[index]\n",
    "      return closest_word\n",
    "    else:\n",
    "      missing = [w for w in query_words if w not in vocab]\n",
    "      raise Exception(\"missing {} from vocabulary\".format(\", \".join(missing)))"
   ]
  },
  {
   "cell_type": "code",
   "execution_count": 56,
   "metadata": {
    "colab": {
     "base_uri": "https://localhost:8080/",
     "height": 104
    },
    "colab_type": "code",
    "id": "lF3mtHMjHue-",
    "outputId": "2e0031c5-b5e1-429d-8a26-80fe63340ed7"
   },
   "outputs": [
    {
     "name": "stdout",
     "output_type": "stream",
     "text": [
      "doctor - nurse ~= emperor - king\n",
      "robot - weapon ~= road - bus\n",
      "sing - song ~= defend - justice\n",
      "elderly - kids ~= widow - teenager\n",
      "soldier - wound ~= agent - telephone\n"
     ]
    }
   ],
   "source": [
    "queries = [[\"doctor\", \"nurse\", \"king\"], [\"robot\", \"weapon\", \"bus\"], [\"sing\", \"song\", \"justice\"], [\"elderly\", \"kids\", \"teenager\"], [\"soldier\", \"wound\", \"telephone\"]]\n",
    "for query in queries:\n",
    "  closet_word = relation(embeddings, query, word2idx, idx2word)\n",
    "  print(\"{} - {} ~= {} - {}\".format(query[0], query[1], closet_word, query[2]))"
   ]
  },
  {
   "cell_type": "code",
   "execution_count": 0,
   "metadata": {
    "colab": {},
    "colab_type": "code",
    "id": "W4VglvwHvPUB"
   },
   "outputs": [],
   "source": []
  }
 ],
 "metadata": {
  "colab": {
   "collapsed_sections": [],
   "name": "HW_3.ipynb",
   "provenance": []
  },
  "kernelspec": {
   "display_name": "Python 3",
   "language": "python",
   "name": "python3"
  },
  "language_info": {
   "codemirror_mode": {
    "name": "ipython",
    "version": 3
   },
   "file_extension": ".py",
   "mimetype": "text/x-python",
   "name": "python",
   "nbconvert_exporter": "python",
   "pygments_lexer": "ipython3",
   "version": "3.7.3"
  }
 },
 "nbformat": 4,
 "nbformat_minor": 1
}
